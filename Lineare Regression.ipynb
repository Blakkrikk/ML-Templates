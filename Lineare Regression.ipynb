{
 "cells": [
  {
   "cell_type": "markdown",
   "metadata": {},
   "source": [
    "## Daten und nötigen Packages importieren\n",
    "## Und mit Pair Plot Daten visualisieren\n",
    "um möglicherweise erste Zusammenhänge zu erkennen"
   ]
  },
  {
   "cell_type": "code",
   "execution_count": null,
   "metadata": {},
   "outputs": [],
   "source": [
    "import pandas as pd \n",
    "%matplotlib inline\n",
    "import matplotlib.pyplot as plt\n",
    "from sklearn.linear_model import LinearRegression\n",
    "import numpy as np\n",
    "from sklearn.model_selection import KFold\n",
    "from sklearn.model_selection import train_test_split\n",
    "from sklearn.model_selection import cross_val_score\n",
    "import seaborn as sns\n",
    "\n",
    "df = pd.read_csv(\"[Dateipfad]\")\n",
    "# mit dtype = np.[datatype] kann man die Daten gleich beim Import anpassen zB. (\"...\", dtype = np.float)\n",
    "# Um Spalten vorab zu entfernen:\n",
    "# df = df.drop(\"Spaltenname\", axis = 1)"
   ]
  },
  {
   "cell_type": "code",
   "execution_count": 1,
   "metadata": {},
   "outputs": [
    {
     "name": "stdout",
     "output_type": "stream",
     "text": [
      "Collecting twitter\n",
      "  Downloading https://files.pythonhosted.org/packages/85/e2/f602e3f584503f03e0389491b251464f8ecfe2596ac86e6b9068fe7419d3/twitter-1.18.0-py2.py3-none-any.whl (54kB)\n",
      "Installing collected packages: twitter\n",
      "Successfully installed twitter-1.18.0\n"
     ]
    }
   ],
   "source": [
    "sns.pairplot(df)\n",
    "df.describe()"
   ]
  },
  {
   "cell_type": "markdown",
   "metadata": {},
   "source": [
    "## Aufteilen des Dataframes in Trainings und Testdaten"
   ]
  },
  {
   "cell_type": "code",
   "execution_count": null,
   "metadata": {},
   "outputs": [],
   "source": [
    "# achte auf die doppelten eckigen Klammern damit Datentyp ein Dataframe bleibt\n",
    "# Oder .values dahinter -> df wird zu np.array\n",
    "# wird benötigt für die K-Fold Cross Validation\n",
    "\n",
    "X = df[['X1-Werte', 'X2-Werte']].values\n",
    "# Oder: Die Spalte \"xyz\" und \"abc\" soll nicht zur Vorhersage verwendet werden:\n",
    "# X = df.drop(\"xyz\", axis = 1).drop(\"abc\", axis = 1).values\n",
    "y = df[['Y-Werte']].values\n",
    "\n",
    "X_train, X_test, y_train, y_test = train_test_split(X, y) \n",
    "# default = 1/4 testdaten"
   ]
  },
  {
   "cell_type": "markdown",
   "metadata": {},
   "source": [
    "## Trainiere das Modell mit den Trainingsdaten\n",
    "## Teste das Modell mit den Testdaten"
   ]
  },
  {
   "cell_type": "code",
   "execution_count": null,
   "metadata": {},
   "outputs": [],
   "source": [
    "model = LinearRegression()\n",
    "model.fit(X_train, y_train)\n",
    "\n",
    "# model.predict speichert meine Y-Werte in der angegebenen Variabel\n",
    "ytestprdct = model.predict(X_test)\n",
    "ytrainprdct = model.predict(X_train)\n",
    "# hier können auch selbst Werte eingegeben werden\n",
    "# z.B.: \n",
    "# prdct = model.predict([x1], [x2], [x3])\n",
    "# prdct = model.predict([500])\n",
    "\n",
    "# Visualisieren geht nur in 2D! (mit einer Variablen)\n",
    "# beim plotten nun auf die gleiche Anzahl der übergebenen X und Y-Werte achten!\n",
    "plt.scatter(X_test, y_test, color = 'red')\n",
    "plt.plot(X_test, ytestprdct) \n",
    "# das zeigt die Punkte an die das Model vorhersagt durch .plot zu  Linie verbunden"
   ]
  },
  {
   "cell_type": "markdown",
   "metadata": {},
   "source": [
    "## R² - Bestimmtheitsmaß um Modell zu evaluieren\n",
    "\n",
    "R² := 1 - Summe(Fehler des Modells)/Summe(Fehler des Durchschnitts)\n",
    "\n",
    "1: heißt beschreibt Daten perfekt\n",
    "\n",
    "0: heißt Daten werden genauso gut durch Durchschnitt beschrieben"
   ]
  },
  {
   "cell_type": "code",
   "execution_count": null,
   "metadata": {},
   "outputs": [],
   "source": [
    "model.score(X_test, y_test)"
   ]
  },
  {
   "cell_type": "markdown",
   "metadata": {},
   "source": [
    "## K-Fold Cross Validation\n",
    "\n",
    "mehrere Modelle auf verschiedene Teile der Daten trainieren \n",
    "\n",
    "-> Mittelung der verschiedenen Bestimmtheitsmaße"
   ]
  },
  {
   "cell_type": "code",
   "execution_count": null,
   "metadata": {},
   "outputs": [],
   "source": [
    "kf = KFold(n_splits = , 4, shuffle = True)\n",
    "\n",
    "# kurze Schreibweise:\n",
    "scores = cross_val_score(LinearRegression(), X, y, cv = kf)\n",
    "print(np.mean(scores))\n",
    "\n",
    "# lange Schreibweise:\n",
    "kf.split(X)\n",
    "# generiert Indizes um die Daten zu splitten\n",
    "# mit diesen Indizes kann man dann auf die X und Y Werte zugreifen"
   ]
  },
  {
   "cell_type": "markdown",
   "metadata": {},
   "source": [
    "## Good to know \n",
    "### Geradengleichung\n",
    "\n",
    "f(x) = m * x + t\n",
    "\n",
    "y = coef * x + intercept"
   ]
  },
  {
   "cell_type": "code",
   "execution_count": null,
   "metadata": {},
   "outputs": [],
   "source": [
    "model.intercept_\n",
    "model.coef_\n",
    "# damit kann jetzt die Regressionsgerade gezeichnet werden"
   ]
  },
  {
   "cell_type": "markdown",
   "metadata": {},
   "source": [
    "### Ebenengleichung\n",
    "\n",
    "f(x1, x2) = a * x1 + b* x2 + c\n",
    "\n",
    "y = coef1 * x1 + coef2 * x2 + intercept"
   ]
  },
  {
   "cell_type": "code",
   "execution_count": null,
   "metadata": {},
   "outputs": [],
   "source": [
    "# Achtung bei mehreren Variablen darauf acten, dass die Variablen/Daten \n",
    "# unkorreliert sind! "
   ]
  }
 ],
 "metadata": {
  "kernelspec": {
   "display_name": "Python 3",
   "language": "python",
   "name": "python3"
  },
  "language_info": {
   "codemirror_mode": {
    "name": "ipython",
    "version": 3
   },
   "file_extension": ".py",
   "mimetype": "text/x-python",
   "name": "python",
   "nbconvert_exporter": "python",
   "pygments_lexer": "ipython3",
   "version": "3.7.1"
  }
 },
 "nbformat": 4,
 "nbformat_minor": 2
}

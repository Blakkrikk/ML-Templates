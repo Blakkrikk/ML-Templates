{
 "cells": [
  {
   "cell_type": "markdown",
   "metadata": {},
   "source": [
    "## Daten und nötigen Packages importieren\n",
    "## Und mit Pair Plot Daten visualisieren\n",
    "um möglicherweise erste Zusammenhänge zu erkennen"
   ]
  },
  {
   "cell_type": "code",
   "execution_count": 4,
   "metadata": {},
   "outputs": [],
   "source": [
    "import pandas as pd \n",
    "%matplotlib inline\n",
    "import matplotlib.pyplot as plt\n",
    "from sklearn.neighbors import KNeighborsClassifier\n",
    "import numpy as np\n",
    "from sklearn.model_selection import KFold\n",
    "from sklearn.model_selection import train_test_split\n",
    "from sklearn.model_selection import cross_val_score\n",
    "import seaborn as sns\n",
    "from sklearn.preprocessing import StandardScaler"
   ]
  },
  {
   "cell_type": "code",
   "execution_count": null,
   "metadata": {},
   "outputs": [],
   "source": [
    "df = pd.read_csv(\"[Dateipfad]\")\n",
    "# mit dtype = np.[datatype] kann man die Daten gleich beim Import anpassen zB. (\"...\", dtype = np.float)\n",
    "# Um Spalten vorab zu entfernen:\n",
    "# df = df.drop(\"Spaltenname\", axis = 1)\n",
    "\n",
    "# Wenn du eine kategorische Variable in mehrere Spalten umwandeln\n",
    "# möchtest, kannst du das mit folgendem Code tun:\n",
    "# df = pd.get_dummies(df, columns = [\"Spaltenname\"])\n",
    "# somit wird aus einer Spalte: München, Berlin, Köln\n",
    "# drei Spalten München: 0, 1 | Berlin: 0, 1 | Köln: 0, 1\n",
    "\n",
    "sns.pairplot(df)\n",
    "df.describe()"
   ]
  },
  {
   "cell_type": "markdown",
   "metadata": {},
   "source": [
    "## X und Y-Werte bestimmen"
   ]
  },
  {
   "cell_type": "code",
   "execution_count": null,
   "metadata": {},
   "outputs": [],
   "source": [
    "# achte auf die doppelten eckigen Klammern damit Datentyp ein Dataframe bleibt\n",
    "# Oder .values dahinter -> df wird zu np.array\n",
    "# wird benötigt für die K-Fold Cross Validation\n",
    "\n",
    "X = df[['X1-Werte', 'X2-Werte']].values\n",
    "# Oder: Die Spalte \"xyz\" und \"abc\" soll nicht zur Vorhersage verwendet werden:\n",
    "# X = df.drop(\"xyz\", axis = 1).drop(\"abc\", axis = 1).values\n",
    "\n",
    "y = df['Y-Werte'].values\n",
    "# bei Klassifizierung nur einfache Klammern (ein Array keine Array von Arrays wie bei Regression)"
   ]
  },
  {
   "cell_type": "markdown",
   "metadata": {},
   "source": [
    "## Skalieren der X-Werte\n",
    "Standardabweichung zum Mittelwert damit Maßstab bei den Achsen identisch ist\n",
    "## und Aufteilen in Trainings und Testdaten"
   ]
  },
  {
   "cell_type": "code",
   "execution_count": null,
   "metadata": {},
   "outputs": [],
   "source": [
    "scaler = StandardScaler()\n",
    "scaler.fit(X)\n",
    "\n",
    "X_scale = scaler.transform(X)\n",
    "\n",
    "X_train, X_test, y_train, y_test = train_test_split(X_scale, y) \n",
    "# default = 1/4 testdaten"
   ]
  },
  {
   "cell_type": "markdown",
   "metadata": {},
   "source": [
    "## Trainiere das Modell mit den Trainingsdaten\n",
    "## und zeige die Genaugikeit des Modells\n",
    "logistische Regression basiert auf Sigmoid Fct.\n",
    "nähert sich 0 und 1 nie ganz an.\n",
    "\n",
    "Standardmäßig ist hier One vs All Klassifizierung"
   ]
  },
  {
   "cell_type": "code",
   "execution_count": null,
   "metadata": {},
   "outputs": [],
   "source": [
    "model = KNeighborsClassifier(n_neigbors = 5)\n",
    "# mehr neigbors = allgemeinerer Trend\n",
    "\n",
    "model.fit(X_train, y_train)\n",
    "\n",
    "print(model.score(X_test, y_test))"
   ]
  },
  {
   "cell_type": "markdown",
   "metadata": {},
   "source": [
    "## Visualisierung der Daten\n",
    "funktioniert nur bei Betrachtung von zwei X-Werten"
   ]
  },
  {
   "cell_type": "code",
   "execution_count": null,
   "metadata": {},
   "outputs": [],
   "source": [
    "from helper import plot_classifier\n",
    "# hilfreiches Modul von Jannis macht die Visualisierung noch schöner\n",
    "\n",
    "plt.scatter(X1, X2, c=y)\n",
    "# Y-Werte werden durch Farbgebung gezeigt\n",
    "\n",
    "#schöner mit Contourplot im Hintergrudn der Daten:\n",
    "plot_classifier(model, X, y, proba = False, xlabel = \"...\", ylabel = \"...\")\n",
    "# proba = true zeigt Übergangsbereich\n",
    "# darauf achten, dass X-Werte skaliert sind"
   ]
  }
 ],
 "metadata": {
  "kernelspec": {
   "display_name": "Python 3",
   "language": "python",
   "name": "python3"
  },
  "language_info": {
   "codemirror_mode": {
    "name": "ipython",
    "version": 3
   },
   "file_extension": ".py",
   "mimetype": "text/x-python",
   "name": "python",
   "nbconvert_exporter": "python",
   "pygments_lexer": "ipython3",
   "version": "3.6.10"
  }
 },
 "nbformat": 4,
 "nbformat_minor": 2
}

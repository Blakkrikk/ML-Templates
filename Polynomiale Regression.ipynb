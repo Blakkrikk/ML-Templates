{
 "cells": [
  {
   "cell_type": "markdown",
   "metadata": {},
   "source": [
    "## Daten und nötigen Packages importieren\n",
    "## Und mit scatter Plot Daten visualisieren"
   ]
  },
  {
   "cell_type": "code",
   "execution_count": null,
   "metadata": {},
   "outputs": [],
   "source": [
    "import pandas as pd \n",
    "%matplotlib inline\n",
    "import matplotlib.pyplot as plt\n",
    "from sklearn.linear_model import LinearRegression\n",
    "import numpy as np\n",
    "from sklearn.model_selection import KFold\n",
    "from sklearn.model_selection import train_test_split\n",
    "from sklearn.model_selection import cross_val_score\n",
    "from sklearn.preprocessing import PolynomialFeatures\n",
    "import seaborn as sns\n",
    "from scipy.optimize import curve_fit\n",
    "\n",
    "df = pd.read_csv(\"[Dateipfad]\")\n",
    "# mit dtype = np.[datatype] kann man die Daten gleich beim Import anpassen zB. (\"...\", dtype = np.float)\n",
    "# Um Spalten vorab zu entfernen:\n",
    "# df = df.drop(\"Spaltenname\", axis = 1)\n",
    "\n",
    "sns.pairplot(df)"
   ]
  },
  {
   "cell_type": "markdown",
   "metadata": {},
   "source": [
    "## Transformieren der X-Werte\n",
    "## Aufteilen Trainings und Testdaten"
   ]
  },
  {
   "cell_type": "code",
   "execution_count": null,
   "metadata": {},
   "outputs": [],
   "source": [
    "# achte auf die doppelten eckigen Klammern damit Datentyp ein Dataframe bleibt\n",
    "# Oder .values dahinter -> df wird zu np.array\n",
    "# wird benötigt für die K-Fold Cross Validation\n",
    "\n",
    "X = df[['X1-Werte', 'X2-Werte']].values\n",
    "# Oder: Die Spalte \"xyz\" und \"abc\" soll nicht zur Vorhersage verwendet werden:\n",
    "# X = df.drop(\"xyz\", axis = 1).drop(\"abc\", axis = 1).values\n",
    "y = df[['Y-Werte']].values\n",
    "\n",
    "# X-Werte transformieren\n",
    "# polynominale Terme erstellen (zusätzliche Spalten hinzufügen - Potenzen)\n",
    "# X1², X1*X2 und X2² werden hinzugefügt (zusätzlich zu X1 und X2)\n",
    "pf = PolynomialFeatures(degree = 4, include_bias = False)\n",
    "pf.fit(X)\n",
    "# bei 2. Grad, Spalten = 5\n",
    "# bei 3. Grad, Spalten = 9\n",
    "# bei 4. Grad, Spalten = 14\n",
    "# pf.power_ zeigt Form an\n",
    "X_transformed = pf.transform(X)[:, [0, 1, 2, 3, 4]]\n",
    "# schauen welche Spalten zu einem besseren Ergebnis führen oder welche Spalten \n",
    "# egals sind\n",
    "\n",
    "X_train_trans, X_test_trans, y_train, y_test = train_test_split(X_transformed, y) \n",
    "# default = 1/4 testdaten"
   ]
  },
  {
   "cell_type": "markdown",
   "metadata": {},
   "source": [
    "## Trainiere das Modell mit den Trainingsdaten\n",
    "## Teste das Modell mit den Testdaten"
   ]
  },
  {
   "cell_type": "code",
   "execution_count": null,
   "metadata": {},
   "outputs": [],
   "source": [
    "# und an LineareRegression weitergeben\n",
    "model = LinearRegression()\n",
    "model.fit(X_train_trans, y_train)\n",
    "\n",
    "# model.predict speichert meine dazugehörigen/berechneten Y-Werte in der angegebenen Variabel\n",
    "ytestprdct = model.predict(X_test_transformed)"
   ]
  },
  {
   "cell_type": "markdown",
   "metadata": {},
   "source": [
    "## Andere Möglichkeit (Prof. Vogl)"
   ]
  },
  {
   "cell_type": "code",
   "execution_count": null,
   "metadata": {},
   "outputs": [],
   "source": [
    "# definiere die Funktion, die an die Daten angepaßt werden soll\n",
    "def func(x, a, b, c, d):\n",
    "    return a+b*x+c*x**2+d*x**3\n",
    "# führe den Fit durch!\n",
    "# ausgegeben werden die Fit-Parameter und die Kovarianzmatrix der Parameter\n",
    "popt, pcov = curve_fit(func, X_train,y_train)\n",
    "print(popt) # optimalen Parameter\n",
    "print(pcov) # Kovarianzmatrix\n",
    "\n",
    "Xtrainprdct = func(X_train,*popt) \n",
    "Xtestprdct = func(X_test,*popt)"
   ]
  },
  {
   "cell_type": "markdown",
   "metadata": {},
   "source": [
    "## R² - Bestimmtheitsmaß um Modell zu evaluieren\n",
    "\n",
    "R² := 1 - Summe(Fehler des Modells)/Summe(Fehler des Durchschnitts)\n",
    "\n",
    "1: heißt beschreibt Daten perfekt\n",
    "\n",
    "0: heißt Daten werden genauso gut durch Durchschnitt beschrieben"
   ]
  },
  {
   "cell_type": "code",
   "execution_count": null,
   "metadata": {},
   "outputs": [],
   "source": [
    "model.score(X_test_trans, y_test)"
   ]
  },
  {
   "cell_type": "markdown",
   "metadata": {},
   "source": [
    "## K-Fold Cross Validation\n",
    "\n",
    "mehrere Modelle auf verschiedene Teile der Daten trainieren \n",
    "\n",
    "-> Mittelung der verschiedenen Bestimmtheitsmaße"
   ]
  },
  {
   "cell_type": "code",
   "execution_count": null,
   "metadata": {},
   "outputs": [],
   "source": [
    "kf = KFold(n_splits = , 4, shuffle = True)\n",
    "\n",
    "# kurze Schreibweise:\n",
    "scores = cross_val_score(LinearRegression(), X, y, cv = kf)\n",
    "# weiß nicht ob das so mit Poly. Regr. funktioniert..\n",
    "print(np.mean(scores))\n",
    "\n",
    "# lange Schreibweise:\n",
    "kf.split(X)\n",
    "# generiert Indizes um die Daten zu splitten\n",
    "# mit diesen Indizes kann man dann auf die X und Y Werte zugreifen"
   ]
  },
  {
   "cell_type": "markdown",
   "metadata": {},
   "source": [
    "## Good to know \n",
    "### Geradengleichung\n",
    "\n",
    "f(x) = m * x + t\n",
    "\n",
    "y = coef * x + intercept"
   ]
  },
  {
   "cell_type": "code",
   "execution_count": null,
   "metadata": {},
   "outputs": [],
   "source": [
    "model.intercept_\n",
    "model.coef_\n",
    "# damit kann jetzt die Regressionsgerade gezeichnet werden"
   ]
  },
  {
   "cell_type": "markdown",
   "metadata": {},
   "source": [
    "### Ebenengleichung\n",
    "\n",
    "f(x1, x2) = a * x1 + b* x2 + c\n",
    "\n",
    "y = coef1 * x1 + coef2 * x2 + intercept"
   ]
  },
  {
   "cell_type": "code",
   "execution_count": null,
   "metadata": {},
   "outputs": [],
   "source": [
    "# Achtung bei mehreren Variablen darauf acten, dass die Variablen/Daten \n",
    "# unkorreliert sind! "
   ]
  }
 ],
 "metadata": {
  "kernelspec": {
   "display_name": "Python 3",
   "language": "python",
   "name": "python3"
  },
  "language_info": {
   "codemirror_mode": {
    "name": "ipython",
    "version": 3
   },
   "file_extension": ".py",
   "mimetype": "text/x-python",
   "name": "python",
   "nbconvert_exporter": "python",
   "pygments_lexer": "ipython3",
   "version": "3.7.1"
  }
 },
 "nbformat": 4,
 "nbformat_minor": 2
}
